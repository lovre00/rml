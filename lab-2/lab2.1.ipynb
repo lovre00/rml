{
 "cells": [
  {
   "attachments": {},
   "cell_type": "markdown",
   "metadata": {},
   "source": [
    "## Exercise: Analyzing and Visualizing Data with Matplotlib, Pandas, and NumPy\n",
    "\n",
    "The Boston Housing Dataset is a derived from information collected by the U.S. Census Service concerning housing in the area of Boston MA. The following describes the dataset columns:\n",
    "\n",
    "- CRIM - per capita crime rate by town\n",
    "- ZN - proportion of residential land zoned for lots over 25,000 sq.ft.\n",
    "- INDUS - proportion of non-retail business acres per town.\n",
    "- CHAS - Charles River dummy variable (1 if tract bounds river; 0 otherwise)\n",
    "- NOX - nitric oxides concentration (parts per 10 million)\n",
    "- RM - average number of rooms per dwelling\n",
    "- AGE - proportion of owner-occupied units built prior to 1940\n",
    "- DIS - weighted distances to five Boston employment centres\n",
    "- RAD - index of accessibility to radial highways\n",
    "- TAX - full-value property-tax rate per $10,000\n",
    "- PTRATIO - pupil-teacher ratio by town\n",
    "- B - 1000(Bk - 0.63)^2 where Bk is the proportion of blacks by town\n",
    "- LSTAT - % lower status of the population\n",
    "- MEDV - Median value of owner-occupied homes in $1000's\n",
    "\n",
    "### Part 1: Data Preparation\n",
    "\n",
    "In this part of the exercise, you will use Pandas and NumPy to load and preprocess data. For this exercise, we will use a dataset of housing prices in Boston.\n",
    "\n",
    "1.  Download the Boston Housing dataset from [UCI Machine Learning Repository](https://archive.ics.uci.edu/ml/machine-learning-databases/housing/housing.data) and save it to your local computer.\n",
    "2.  Load the dataset into a Pandas DataFrame and examine its contents. The dataset should have 506 rows and 14 columns.\n",
    "3.  Use NumPy to calculate some basic statistics about the dataset, such as the mean, median, standard deviation, minimum, and maximum values of each column.\n",
    "4.  Clean the dataset by removing any missing or invalid values. You can use Pandas' `dropna()` method for this.\n",
    "\n"
   ]
  },
  {
   "cell_type": "code",
   "execution_count": null,
   "metadata": {},
   "outputs": [],
   "source": [
    "!pip install pandas yfinance matplotlib seaborn"
   ]
  },
  {
   "cell_type": "code",
   "execution_count": null,
   "metadata": {},
   "outputs": [],
   "source": []
  },
  {
   "cell_type": "code",
   "execution_count": null,
   "metadata": {},
   "outputs": [],
   "source": []
  },
  {
   "cell_type": "code",
   "execution_count": null,
   "metadata": {},
   "outputs": [],
   "source": []
  },
  {
   "attachments": {},
   "cell_type": "markdown",
   "metadata": {},
   "source": [
    "### Part 2: Data Visualization\n",
    "\n",
    "In this part of the exercise, you will use Matplotlib to create some visualizations of the housing data.\n",
    "\n",
    "1.  Create a scatter plot of the housing prices (`MEDV`) versus the number of rooms (`RM`). Label the axes and add a title to the plot.\n",
    "2.  Create a histogram of the housing prices (`MEDV`). Label the axes and add a title to the plot.\n",
    "3.  Create a box plot of the housing prices (`MEDV`) grouped by the proximity to employment centers (`DIS`). Label the axes and add a title to the plot."
   ]
  },
  {
   "cell_type": "code",
   "execution_count": null,
   "metadata": {},
   "outputs": [],
   "source": []
  },
  {
   "cell_type": "code",
   "execution_count": null,
   "metadata": {},
   "outputs": [],
   "source": []
  },
  {
   "cell_type": "code",
   "execution_count": null,
   "metadata": {},
   "outputs": [],
   "source": []
  },
  {
   "cell_type": "code",
   "execution_count": null,
   "metadata": {},
   "outputs": [],
   "source": []
  },
  {
   "attachments": {},
   "cell_type": "markdown",
   "metadata": {
    "id": "VY48mAXCuRa-"
   },
   "source": [
    "### Part 3: Data Analysis\n",
    "\n",
    "In this part of the exercise, you will use Pandas and NumPy to perform some basic data analysis on the housing data.\n",
    "\n",
    "1.  Calculate the correlation coefficient between the housing prices (`MEDV`) and the number of rooms (`RM`) using NumPy's `corrcoef()` method.\n",
    "2.  Calculate the mean housing price (`MEDV`) for each neighborhood (`CHAS`). You can use Pandas' `groupby()` method for this.\n",
    "3.  Calculate the percentage of houses that have more than 7 rooms (`RM`). You can use Pandas' `value_counts()` method for this."
   ]
  },
  {
   "cell_type": "code",
   "execution_count": null,
   "metadata": {
    "id": "EJ4tZ5gYdrOv"
   },
   "outputs": [],
   "source": []
  },
  {
   "attachments": {},
   "cell_type": "markdown",
   "metadata": {
    "id": "qgtLgu0-uplS"
   },
   "source": [
    "### Part 4: Putting it all together\n",
    "\n",
    "In this final part of the exercise, you will use all three libraries to create a complete data analysis and visualization pipeline.\n",
    "\n",
    "1.  Load the dataset and preprocess it as before.\n",
    "2.  Create the scatter plot and histogram as before.\n",
    "3.  Calculate the correlation coefficient between the housing prices and the number of rooms as before.\n",
    "4.  Group the data by the proximity to employment centers and calculate the mean housing prices as before.\n",
    "5.  Create a bar chart of the mean housing prices by proximity to employment centers. Label the axes and add a title to the plot."
   ]
  },
  {
   "cell_type": "code",
   "execution_count": null,
   "metadata": {
    "id": "oRM7cXildxrf"
   },
   "outputs": [],
   "source": []
  }
 ],
 "metadata": {
  "colab": {
   "collapsed_sections": [],
   "provenance": []
  },
  "kernelspec": {
   "display_name": "Python 3.9.10 64-bit",
   "language": "python",
   "name": "python3"
  },
  "language_info": {
   "codemirror_mode": {
    "name": "ipython",
    "version": 3
   },
   "file_extension": ".py",
   "mimetype": "text/x-python",
   "name": "python",
   "nbconvert_exporter": "python",
   "pygments_lexer": "ipython3",
   "version": "3.12.2"
  },
  "vscode": {
   "interpreter": {
    "hash": "b0fa6594d8f4cbf19f97940f81e996739fb7646882a419484c72d19e05852a7e"
   }
  }
 },
 "nbformat": 4,
 "nbformat_minor": 4
}
