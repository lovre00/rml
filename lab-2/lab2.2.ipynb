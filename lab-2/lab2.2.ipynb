{
 "cells": [
  {
   "attachments": {},
   "cell_type": "markdown",
   "metadata": {},
   "source": [
    "## Exercise: Descriptive Statistics\n",
    "\n",
    "In this notebook, we will investigate and examine data from the stock market, focusing on technology stock, such as Apple for example. In this exercise, we'll use the `pandas`, `numpy`, and `matplotlib` libraries, and will cover concepts like expectance, rolling mean, and visualization of the data. We will learn how to utilize `yfinance` to obtain stock information and visualize various aspects of the data with Seaborn and Matplotlib.\n",
    "\n",
    "We'll be answering the following questions along the way:\n",
    "\n",
    "1.) What was the change in price of the stock over time?\\\n",
    "2.) What was the daily return of the stock on average?\\\n",
    "3.) What was the moving average of the various stocks?\n",
    "\n",
    "### Data Preparation\n",
    "\n",
    "The initial step involves acquiring the data and loading it into memory. We will obtain our stock information from the Yahoo Finance website, which is a valuable source of financial market data and provides tools for discovering attractive investments. To extract data from Yahoo Finance, we will employ the `yfinance` library, which presents a threaded and Python-friendly approach for downloading market data."
   ]
  },
  {
   "cell_type": "code",
   "execution_count": null,
   "metadata": {},
   "outputs": [],
   "source": [
    "!pip install pandas yfinance matplotlib seaborn pandas-datareader setuptools # install required packages"
   ]
  },
  {
   "attachments": {},
   "cell_type": "markdown",
   "metadata": {},
   "source": [
    "1. Import necessary libraries: `pandas`, `yfinance`, and `matplotlib`.\n",
    "2. Load the stock data for a specific company (e.g. Apple Inc.) using the `yfinance` library."
   ]
  },
  {
   "cell_type": "code",
   "execution_count": null,
   "metadata": {},
   "outputs": [],
   "source": [
    "import pandas as pd\n",
    "\n",
    "# For reading stock data from yahoo\n",
    "from pandas_datareader.data import DataReader\n",
    "import yfinance as yf\n",
    "from pandas_datareader import data as pdr\n",
    "\n",
    "yf.pdr_override()\n",
    "\n",
    "# For time stamps\n",
    "from datetime import datetime\n",
    "\n",
    "# The tech stock we will use for this analysis\n",
    "company = 'AAPL'\n",
    "\n",
    "end = datetime.now()\n",
    "start = datetime(end.year - 1, end.month, end.day)\n",
    "\n",
    "apple_stock_data = yf.download(company, start, end)"
   ]
  },
  {
   "cell_type": "code",
   "execution_count": null,
   "metadata": {},
   "outputs": [],
   "source": [
    "apple_stock_data.tail(10)"
   ]
  },
  {
   "attachments": {},
   "cell_type": "markdown",
   "metadata": {},
   "source": [
    "Play with code by running it, and experiment with different stock tickers and date ranges."
   ]
  },
  {
   "cell_type": "code",
   "execution_count": null,
   "metadata": {},
   "outputs": [],
   "source": []
  },
  {
   "attachments": {},
   "cell_type": "markdown",
   "metadata": {},
   "source": [
    "### Descriptive Statistics about the Data\n",
    "\n",
    "The `.describe()` function produces summary statistics, which encompass central tendency, dispersion, and the form of a dataset's distribution, excluding any `NaN` values. It examines numeric and object series, as well as DataFrame columns containing mixed data types. The resulting output depends on the input provided."
   ]
  },
  {
   "attachments": {},
   "cell_type": "markdown",
   "metadata": {},
   "source": [
    "1. Display the first few rows of the dataset using `head()` function."
   ]
  },
  {
   "cell_type": "code",
   "execution_count": null,
   "metadata": {},
   "outputs": [],
   "source": []
  },
  {
   "attachments": {},
   "cell_type": "markdown",
   "metadata": {},
   "source": [
    "2.  Check for missing values and handle them if needed.\n",
    "\n",
    "First, check for missing values in the dataset using the `isnull()` function and `sum()` to count the number of missing values in each column."
   ]
  },
  {
   "cell_type": "code",
   "execution_count": null,
   "metadata": {},
   "outputs": [],
   "source": []
  },
  {
   "attachments": {},
   "cell_type": "markdown",
   "metadata": {},
   "source": [
    "3.  Calculate the basic descriptive statistics for the dataset (e.g., mean, median, standard deviation, etc.).\n",
    "\n",
    "Use the `describe()` function to calculate the basic descriptive statistics for the dataset."
   ]
  },
  {
   "cell_type": "code",
   "execution_count": null,
   "metadata": {},
   "outputs": [],
   "source": []
  },
  {
   "attachments": {},
   "cell_type": "markdown",
   "metadata": {},
   "source": [
    "Additionally, you can calculate individual statistics for specific columns, such as the closing price:"
   ]
  },
  {
   "cell_type": "code",
   "execution_count": null,
   "metadata": {},
   "outputs": [],
   "source": [
    "# your code here that calculates the mean, median, and standard deviation of the closing price\n",
    "\n",
    "print(\"Mean closing price:\", mean_close_price)\n",
    "print(\"Median closing price:\", median_close_price)\n",
    "print(\"Standard deviation of closing price:\", std_close_price)"
   ]
  },
  {
   "attachments": {},
   "cell_type": "markdown",
   "metadata": {},
   "source": [
    "### Information About the Data\n",
    "\n",
    "`.info()` method prints information about a DataFrame including the index dtype and columns, non-null values, and memory usage."
   ]
  },
  {
   "cell_type": "code",
   "execution_count": null,
   "metadata": {},
   "outputs": [],
   "source": []
  },
  {
   "cell_type": "code",
   "execution_count": null,
   "metadata": {},
   "outputs": [],
   "source": [
    "import matplotlib.pyplot as plt\n",
    "\n",
    "# Let's see a historical view of the closing price\n",
    "plt.figure(figsize=(12, 6))\n",
    "\n"
   ]
  },
  {
   "attachments": {},
   "cell_type": "markdown",
   "metadata": {},
   "source": [
    "### Volume of sales\n",
    "\n",
    "Trading volume represents the quantity of an asset or security exchanged during a specific time frame, frequently within a day. For example, the daily trading volume of a stock refers to the total number of shares transacted between its opening and closing times. Fluctuations in trading volume over time are significant factors for technical traders to consider."
   ]
  },
  {
   "cell_type": "code",
   "execution_count": null,
   "metadata": {},
   "outputs": [],
   "source": [
    "# Now let's plot the total volume of stock being traded each day\n",
    "plt.figure(figsize=(12, 6))\n",
    "\n",
    "    "
   ]
  },
  {
   "attachments": {},
   "cell_type": "markdown",
   "metadata": {},
   "source": [
    "## Expectation\n",
    "\n",
    "In probability theory and statistics, the expectation (or expected value) of a random variable is a measure of the \"central tendency\" of the distribution of that variable. It is the weighted average of all possible values that the random variable can take on, with the weights being the respective probabilities of those values.\n",
    "\n",
    "If you have a discrete random variable, the expectation can be computed using the following formula:\n",
    "\n",
    "E(X) = Σ \\[x\\_i \\* P(x\\_i)\\]\n",
    "\n",
    "where x\\_i represents the possible values of the random variable X, and P(x\\_i) is the probability of each value x\\_i.\n",
    "\n",
    "For a continuous random variable, the expectation is calculated using an integral:\n",
    "\n",
    "E(X) = ∫ x \\* f(x) dx\n",
    "\n",
    "where x represents the possible values of the random variable X, and f(x) is the probability density function (PDF) of X.\n",
    "\n",
    "In practice, if you have a dataset of observed values and you want to compute the expectation, you can approximate it by calculating the mean (average) of the values, assuming that each observed value is equally likely.\n",
    "\n",
    "In the context of stock prices, expectance is the weighted average of all possible values that the stock's closing price can take on. Expectance is important in reinforcement learning because it helps estimate the expected future rewards or values, which in turn aids in the decision-making process. In finance, expectance can give an idea of the long-term average value of a stock, considering all possible outcomes.\n",
    "\n",
    "1.  Calculate the expectance of the stock's closing price.\n",
    "\n",
    "In this case, since we don't have probabilities associated with each closing price, we can assume that all the closing prices are equally likely. Thus, the expectance can be approximated by the mean closing price."
   ]
  },
  {
   "cell_type": "code",
   "execution_count": null,
   "metadata": {},
   "outputs": [],
   "source": [
    "expectance_close_price = apple_stock_data['Close'].mean()\n",
    "print(\"Expectance of the closing price:\", expectance_close_price)"
   ]
  },
  {
   "attachments": {},
   "cell_type": "markdown",
   "metadata": {},
   "source": [
    "3.  Calculate the expectance for a specific time range (e.g., last 30 days).\n",
    "\n",
    "To calculate the expectance for the last 30 days, first, filter the dataset to include only the last 30 trading days. Then, calculate the mean closing price for this filtered dataset. Use `.iloc[-number_of_days:]` function"
   ]
  },
  {
   "cell_type": "code",
   "execution_count": null,
   "metadata": {},
   "outputs": [],
   "source": [
    "last_30_days = # your code here that gets the last 30 days of data\n",
    "\n",
    "expectance_last_30_days = last_30_days['Close'].mean()\n",
    "print(\"Expectance of the closing price for the last 30 days:\", expectance_last_30_days)"
   ]
  },
  {
   "attachments": {},
   "cell_type": "markdown",
   "metadata": {},
   "source": [
    "## Rolling mean - moving average"
   ]
  },
  {
   "attachments": {},
   "cell_type": "markdown",
   "metadata": {},
   "source": [
    "The rolling mean, or moving average, is a technique used to smooth out time series data by calculating the average of a fixed-size window of data points as it moves along the time axis. The rolling mean helps reduce noise and random fluctuations in the data, making it easier to identify trends and patterns. It's widely used in finance to analyze stock prices, as well as in reinforcement learning to track the performance of an agent over time.\n",
    "\n",
    "1.  Calculate the rolling mean for the stock's closing price with different window sizes (e.g., 7, 14, and 30 days).\n",
    "\n",
    "To calculate the rolling mean, use the `rolling()` function on the 'Close' column of the stock data with different window sizes and then apply the `mean()` function."
   ]
  },
  {
   "cell_type": "code",
   "execution_count": null,
   "metadata": {},
   "outputs": [],
   "source": [
    "# Calculate rolling means with window sizes of 7, 14, and 30 days - note that rolling mean for 14 and 30 days is missing\n",
    "rolling_mean_7 = # your code here\n",
    "\n",
    "# Add rolling means as new columns to the DataFrame\n",
    "apple_stock_data['Rolling Mean 7'] = rolling_mean_7\n",
    "apple_stock_data['Rolling Mean 14'] = rolling_mean_14\n",
    "apple_stock_data['Rolling Mean 30'] = rolling_mean_30\n",
    "\n",
    "# Display the first few rows of the dataset with the new columns\n",
    "print(apple_stock_data.tail())\n",
    "\n"
   ]
  },
  {
   "attachments": {},
   "cell_type": "markdown",
   "metadata": {},
   "source": [
    "## Data visualization\n",
    "\n",
    "The closing market price refers to the last recorded trading price of a stock during the normal trading hours. Investors commonly utilize this price as a standard measure to evaluate the stock's performance throughout a specific time frame. Use 'Adj Close' for plotting this price\n",
    "\n",
    "1.  Plot the stock's closing price over time.\n",
    "\n",
    "To plot the stock's closing price over time, use the `plot()` function from the `matplotlib.pyplot` library on the 'Close' column of the stock data."
   ]
  },
  {
   "cell_type": "code",
   "execution_count": null,
   "metadata": {},
   "outputs": [],
   "source": [
    "plt.figure(figsize=(12, 6))\n"
   ]
  },
  {
   "attachments": {},
   "cell_type": "markdown",
   "metadata": {},
   "source": [
    "2.  Overlay the rolling mean with different window sizes on the closing price plot.\n",
    "\n",
    "To overlay the rolling mean with different window sizes on the closing price plot, simply add the rolling mean columns to the existing plot."
   ]
  },
  {
   "cell_type": "code",
   "execution_count": null,
   "metadata": {},
   "outputs": [],
   "source": [
    "plt.figure(figsize=(12, 6))\n"
   ]
  },
  {
   "attachments": {},
   "cell_type": "markdown",
   "metadata": {
    "id": "qgtLgu0-uplS"
   },
   "source": [
    "### What was the daily return of the stock on average?\n",
    "\n",
    "It's time to delve further into the stock's risk assessment. To accomplish this, we must examine the stock's daily fluctuations rather than solely focusing on its absolute value. We will proceed by employing pandas to obtain the daily returns for Apple's stock. Use company `pct_change()` to calculate and plot `'Daily Return'`"
   ]
  },
  {
   "cell_type": "code",
   "execution_count": null,
   "metadata": {},
   "outputs": [],
   "source": [
    "# We'll use pct_change to find the percent change for each day\n",
    "apple_stock_data['Daily Return'] = apple_stock_data['Adj Close'].pct_change()\n",
    "plt.figure(figsize=(12, 6))\n"
   ]
  },
  {
   "attachments": {},
   "cell_type": "markdown",
   "metadata": {},
   "source": [
    "Use histogram to take a look at the average daily return - use `hist()` function with 50 bins."
   ]
  },
  {
   "cell_type": "code",
   "execution_count": null,
   "metadata": {
    "id": "oRM7cXildxrf"
   },
   "outputs": [],
   "source": [
    "plt.figure(figsize=(12, 9))\n",
    "\n"
   ]
  },
  {
   "cell_type": "code",
   "execution_count": null,
   "metadata": {},
   "outputs": [],
   "source": [
    "import seaborn as sns\n",
    "\n",
    "# Set the style and size of the plot\n",
    "sns.set(style='whitegrid')\n",
    "plt.figure(figsize=(12, 6))\n",
    "\n",
    "# Plot the histogram and KDE\n",
    "sns.histplot(apple_stock_data['Daily Return'], kde=True, bins=50)\n",
    "\n",
    "# Add labels and title\n",
    "plt.xlabel('Daily Return')\n",
    "plt.ylabel('Frequency')\n",
    "plt.title('Apple Stock Daily Return Distribution')\n",
    "\n",
    "# Show the plot\n",
    "plt.show()\n"
   ]
  }
 ],
 "metadata": {
  "colab": {
   "collapsed_sections": [],
   "provenance": []
  },
  "kernelspec": {
   "display_name": "Python 3.9.10 64-bit",
   "language": "python",
   "name": "python3"
  },
  "language_info": {
   "codemirror_mode": {
    "name": "ipython",
    "version": 3
   },
   "file_extension": ".py",
   "mimetype": "text/x-python",
   "name": "python",
   "nbconvert_exporter": "python",
   "pygments_lexer": "ipython3",
   "version": "3.12.2"
  },
  "vscode": {
   "interpreter": {
    "hash": "b0fa6594d8f4cbf19f97940f81e996739fb7646882a419484c72d19e05852a7e"
   }
  }
 },
 "nbformat": 4,
 "nbformat_minor": 4
}
